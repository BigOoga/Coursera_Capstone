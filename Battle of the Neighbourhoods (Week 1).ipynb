{
    "nbformat_minor": 1, 
    "cells": [
        {
            "source": "# Capstone Project - The Battle of Neighborhoods (Week 1)\n", 
            "cell_type": "markdown", 
            "metadata": {
                "collapsed": true
            }
        }, 
        {
            "source": "## Background\nBeing one of the world's most flourishing regions thanks to its bustling economic environment, New York is an ideal candidate for ambitious entrepreneurs. Data shows that among New Yorkers are some of the most wealthy businessmen of the world; this is reflected, however, by an increase in the cost of living, in the form of expensive rents and steep taxes. While this does not discourage new businesses from emerging, it makes choosing the right setting a difficult matter.", 
            "cell_type": "markdown", 
            "metadata": {}
        }, 
        {
            "source": "## Problem\nPossibly the biggest challenge for any New York City business is going to be the wide array of competition. With more than 8 million New Yorkers, the market tends to be over-saturated in almost every industry. Businesses now have to go farther than just offering a service and focus on well thought out marketing strategies to grow. With Queens having one of the most diverse places in the nation. Half of the neighborhood\u2019s residents speak Spanish. Others speak Chinese, Urdu, Hindi, Russian, Portuguese, Greek or Korean. Altogether, the neighborhood is said to be the home of 167 languages. It will be a challenges on what business to start and offer these culture diverse in one of the five boroughs of New York City with it having the largest borough geographically.", 
            "cell_type": "markdown", 
            "metadata": {}
        }, 
        {
            "source": "## Solving the Problem Through Data Science\nWe are going to take advantage of the Foursquare database to gain insight about the New York area, eventual competitors, and optimal location.", 
            "cell_type": "markdown", 
            "metadata": {}
        }, 
        {
            "source": "## Data section\nWe will import the ZIP Code Definitions of New York City Neighborhoods which is available from https://www.health.ny.gov/statistics/cancer/registry/appendix/neighborhoods.htm and append them to our dataset, in order to pinpoint the optimal location, scoping our way through a multitude of venues thanks to the Foursquare API.", 
            "cell_type": "markdown", 
            "metadata": {}
        }
    ], 
    "metadata": {
        "kernelspec": {
            "display_name": "Python 3.5", 
            "name": "python3", 
            "language": "python"
        }, 
        "language_info": {
            "mimetype": "text/x-python", 
            "nbconvert_exporter": "python", 
            "version": "3.5.5", 
            "name": "python", 
            "file_extension": ".py", 
            "pygments_lexer": "ipython3", 
            "codemirror_mode": {
                "version": 3, 
                "name": "ipython"
            }
        }
    }, 
    "nbformat": 4
}